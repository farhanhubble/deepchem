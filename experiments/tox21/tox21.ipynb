{
 "cells": [
  {
   "cell_type": "code",
   "execution_count": 1,
   "metadata": {},
   "outputs": [
    {
     "name": "stderr",
     "output_type": "stream",
     "text": [
      "/home/farhanhubble/anaconda3/envs/deepchem/lib/python3.5/site-packages/h5py/__init__.py:36: FutureWarning: Conversion of the second argument of issubdtype from `float` to `np.floating` is deprecated. In future, it will be treated as `np.float64 == np.dtype(float).type`.\n",
      "  from ._conv import register_converters as _register_converters\n"
     ]
    }
   ],
   "source": [
    "import deepchem as dc\n",
    "import numpy as np"
   ]
  },
  {
   "cell_type": "markdown",
   "metadata": {},
   "source": [
    "### Load the Tox21 Dataset.\n",
    "The [Tox21](https://ncats.nih.gov/tox21/about/goals) (Toxicity in 21st century) dataset maps molecules, drugs and environmental chemicals, to their toxicity towards 12 enzymes. \n",
    "\n",
    "The `molnet` module in **deepchem** library has a function `load_tox21()` that loads the dataset. The function returns three items -- a task list, a list of datasets and a list of transformers. "
   ]
  },
  {
   "cell_type": "code",
   "execution_count": 2,
   "metadata": {},
   "outputs": [
    {
     "name": "stdout",
     "output_type": "stream",
     "text": [
      "Loading raw samples now.\n",
      "shard_size: 8192\n",
      "About to start loading CSV from /tmp/tox21.csv.gz\n",
      "Loading shard 1 of size 8192.\n",
      "Featurizing sample 0\n",
      "Featurizing sample 1000\n",
      "Featurizing sample 2000\n",
      "Featurizing sample 3000\n",
      "Featurizing sample 4000\n",
      "Featurizing sample 5000\n",
      "Featurizing sample 6000\n",
      "Featurizing sample 7000\n",
      "TIMING: featurizing shard 0 took 11.673 s\n",
      "TIMING: dataset construction took 12.363 s\n",
      "Loading dataset from disk.\n",
      "TIMING: dataset construction took 0.798 s\n",
      "Loading dataset from disk.\n",
      "TIMING: dataset construction took 0.724 s\n",
      "Loading dataset from disk.\n",
      "TIMING: dataset construction took 0.372 s\n",
      "Loading dataset from disk.\n",
      "TIMING: dataset construction took 0.365 s\n",
      "Loading dataset from disk.\n"
     ]
    }
   ],
   "source": [
    "tox21_tasks, tox21_datasets, transformers = dc.molnet.load_tox21()"
   ]
  },
  {
   "cell_type": "markdown",
   "metadata": {},
   "source": [
    "The task list is a list of experiments from which the data in the datasets has been collected. The names of the experiments would probably make sense to a bilogist, but are just cryptic acronyms for a computer scientist. In my understanding, each of the 12 tasks represents an experiment where all molecules were tested for their toxicity towards a specific enzyme."
   ]
  },
  {
   "cell_type": "code",
   "execution_count": 3,
   "metadata": {},
   "outputs": [
    {
     "data": {
      "text/plain": [
       "['NR-AR',\n",
       " 'NR-AR-LBD',\n",
       " 'NR-AhR',\n",
       " 'NR-Aromatase',\n",
       " 'NR-ER',\n",
       " 'NR-ER-LBD',\n",
       " 'NR-PPAR-gamma',\n",
       " 'SR-ARE',\n",
       " 'SR-ATAD5',\n",
       " 'SR-HSE',\n",
       " 'SR-MMP',\n",
       " 'SR-p53']"
      ]
     },
     "execution_count": 3,
     "metadata": {},
     "output_type": "execute_result"
    }
   ],
   "source": [
    "tox21_tasks"
   ]
  },
  {
   "cell_type": "markdown",
   "metadata": {},
   "source": [
    "The dataset object is a list of 3 items, each of the type `deepchem.data.datasets.DiskDatase`, representing the train, validation and test sets that have been saved to disk for reuse."
   ]
  },
  {
   "cell_type": "code",
   "execution_count": 4,
   "metadata": {},
   "outputs": [
    {
     "data": {
      "text/plain": [
       "(<deepchem.data.datasets.DiskDataset at 0x7fb4a6db4a58>,\n",
       " <deepchem.data.datasets.DiskDataset at 0x7fb4a6ae7c88>,\n",
       " <deepchem.data.datasets.DiskDataset at 0x7fb4a6e54e48>)"
      ]
     },
     "execution_count": 4,
     "metadata": {},
     "output_type": "execute_result"
    }
   ],
   "source": [
    "tox21_datasets"
   ]
  },
  {
   "cell_type": "code",
   "execution_count": 5,
   "metadata": {},
   "outputs": [],
   "source": [
    "train_dataset, valid_dataset, test_dataset = tox21_datasets"
   ]
  },
  {
   "cell_type": "markdown",
   "metadata": {},
   "source": [
    "Inside every dataset, there is a varible X. A row in X represents a molecule using 1024 features, extracted from a molecule's graph structure, using [graph convolution](https://tkipf.github.io/graph-convolutional-networks/)."
   ]
  },
  {
   "cell_type": "code",
   "execution_count": 6,
   "metadata": {},
   "outputs": [
    {
     "data": {
      "text/plain": [
       "(6264, 1024)"
      ]
     },
     "execution_count": 6,
     "metadata": {},
     "output_type": "execute_result"
    }
   ],
   "source": [
    "train_dataset.X.shape"
   ]
  },
  {
   "cell_type": "code",
   "execution_count": 7,
   "metadata": {},
   "outputs": [
    {
     "data": {
      "text/plain": [
       "(783, 1024)"
      ]
     },
     "execution_count": 7,
     "metadata": {},
     "output_type": "execute_result"
    }
   ],
   "source": [
    "valid_dataset.X.shape"
   ]
  },
  {
   "cell_type": "code",
   "execution_count": 8,
   "metadata": {},
   "outputs": [
    {
     "data": {
      "text/plain": [
       "(784, 1024)"
      ]
     },
     "execution_count": 8,
     "metadata": {},
     "output_type": "execute_result"
    }
   ],
   "source": [
    "test_dataset.X.shape"
   ]
  },
  {
   "cell_type": "markdown",
   "metadata": {},
   "source": [
    "Every dataset also has a variable y that records the chemical's toxicity towards each of the 12 Enzymes as either 1 (toxic) or 0 non-toxic."
   ]
  },
  {
   "cell_type": "code",
   "execution_count": 9,
   "metadata": {},
   "outputs": [
    {
     "data": {
      "text/plain": [
       "(6264, 12)"
      ]
     },
     "execution_count": 9,
     "metadata": {},
     "output_type": "execute_result"
    }
   ],
   "source": [
    "train_dataset.y.shape"
   ]
  },
  {
   "cell_type": "code",
   "execution_count": 10,
   "metadata": {},
   "outputs": [
    {
     "data": {
      "text/plain": [
       "(783, 12)"
      ]
     },
     "execution_count": 10,
     "metadata": {},
     "output_type": "execute_result"
    }
   ],
   "source": [
    "valid_dataset.y.shape"
   ]
  },
  {
   "cell_type": "code",
   "execution_count": 11,
   "metadata": {},
   "outputs": [
    {
     "data": {
      "text/plain": [
       "(784, 12)"
      ]
     },
     "execution_count": 11,
     "metadata": {},
     "output_type": "execute_result"
    }
   ],
   "source": [
    "test_dataset.y.shape"
   ]
  },
  {
   "cell_type": "markdown",
   "metadata": {},
   "source": [
    "There is a caveat,though. Some molecules have not been tested for their toxicity towards some of the enzymes. The `y` value for such a molecule-enzyme pair is meaningless. An additional matrix `w` supresses such pairs from any computation."
   ]
  },
  {
   "cell_type": "code",
   "execution_count": 16,
   "metadata": {},
   "outputs": [
    {
     "data": {
      "text/plain": [
       "(6264, 12)"
      ]
     },
     "execution_count": 16,
     "metadata": {},
     "output_type": "execute_result"
    }
   ],
   "source": [
    "train_dataset.w.shape"
   ]
  },
  {
   "cell_type": "code",
   "execution_count": 17,
   "metadata": {},
   "outputs": [
    {
     "data": {
      "text/plain": [
       "62166"
      ]
     },
     "execution_count": 17,
     "metadata": {},
     "output_type": "execute_result"
    }
   ],
   "source": [
    "np.count_nonzero(train_dataset.w)"
   ]
  },
  {
   "cell_type": "markdown",
   "metadata": {},
   "source": [
    "The matrix `w` is dot multiplied with the matrix `y`. "
   ]
  },
  {
   "cell_type": "code",
   "execution_count": 25,
   "metadata": {},
   "outputs": [
    {
     "data": {
      "text/plain": [
       "array([[ 1.        ,  1.        ,  7.52734375,  0.        ,  0.        ,\n",
       "         1.        ,  1.        ,  5.1910828 ,  1.        ,  1.        ,\n",
       "         1.        ,  1.        ],\n",
       "       [ 1.        ,  1.        ,  1.        ,  1.        ,  1.        ,\n",
       "         1.        ,  1.        ,  0.        ,  1.        ,  0.        ,\n",
       "         1.        ,  1.        ],\n",
       "       [ 0.        ,  0.        ,  0.        ,  0.        ,  0.        ,\n",
       "         0.        ,  0.        ,  1.        ,  0.        ,  1.        ,\n",
       "         0.        ,  0.        ],\n",
       "       [ 1.        ,  1.        ,  1.        ,  1.        ,  1.        ,\n",
       "         1.        ,  1.        ,  0.        ,  1.        ,  0.        ,\n",
       "         1.        ,  1.        ],\n",
       "       [ 1.        ,  1.        ,  1.        ,  1.        ,  1.        ,\n",
       "         1.        ,  1.        ,  1.        ,  1.        ,  1.        ,\n",
       "         1.        ,  1.        ],\n",
       "       [ 1.        ,  1.        ,  1.        ,  1.        ,  1.        ,\n",
       "         1.        ,  1.        ,  0.        ,  1.        ,  1.        ,\n",
       "         1.        ,  1.        ],\n",
       "       [ 1.        ,  1.        ,  1.        ,  1.        ,  1.        ,\n",
       "         1.        ,  1.        ,  1.        ,  1.        ,  1.        ,\n",
       "         1.        ,  1.        ],\n",
       "       [ 1.        ,  0.        ,  1.        ,  0.        ,  6.80958386,\n",
       "         0.        ,  0.        ,  5.1910828 ,  1.        , 16.3844086 ,\n",
       "         1.        , 15.0141844 ],\n",
       "       [ 1.        ,  1.        ,  1.        ,  1.        ,  1.        ,\n",
       "         1.        ,  1.        ,  1.        ,  1.        ,  1.        ,\n",
       "         0.        ,  1.        ],\n",
       "       [ 0.        ,  0.        ,  0.        ,  0.        ,  0.        ,\n",
       "         0.        ,  0.        ,  1.        ,  0.        ,  1.        ,\n",
       "         0.        ,  0.        ]])"
      ]
     },
     "execution_count": 25,
     "metadata": {},
     "output_type": "execute_result"
    }
   ],
   "source": [
    "train_dataset.w[:10]"
   ]
  },
  {
   "cell_type": "markdown",
   "metadata": {},
   "source": [
    "`w` has another function too. It (roughly) balances the weight of each class across the dataset, which can be verified by printing the sum of each column in `w`."
   ]
  },
  {
   "cell_type": "code",
   "execution_count": 34,
   "metadata": {},
   "outputs": [
    {
     "data": {
      "text/plain": [
       "array([10989.22977346, 10472.83544304,  9220.734375  ,  8776.99333333,\n",
       "        8587.03783102, 10308.67142857, 10003.93548387,  7876.17834395,\n",
       "       10889.03030303,  9718.40053763,  7825.78431373, 10365.0212766 ])"
      ]
     },
     "execution_count": 34,
     "metadata": {},
     "output_type": "execute_result"
    }
   ],
   "source": [
    "train_dataset.w.sum(axis=0)"
   ]
  },
  {
   "cell_type": "markdown",
   "metadata": {},
   "source": [
    "The third and last item returned by `load_tox21()` is a list of transformers -- functions that have been used to transform from raw data to the data in the datasets. In this case there is only one element in the list, the transformer for balancing the (labels in the) dataset. Indeed the matrix `w` has been populated by this transformer function."
   ]
  },
  {
   "cell_type": "code",
   "execution_count": 18,
   "metadata": {},
   "outputs": [
    {
     "data": {
      "text/plain": [
       "[<deepchem.trans.transformers.BalancingTransformer at 0x7fb4a786a208>]"
      ]
     },
     "execution_count": 18,
     "metadata": {},
     "output_type": "execute_result"
    }
   ],
   "source": [
    "transformers"
   ]
  },
  {
   "cell_type": "markdown",
   "metadata": {},
   "source": [
    "The **deepchem** library comes with built-in classifiers like the MultiTaskClassifier that performs [multi-label classification](https://en.wikipedia.org/wiki/Multi-label_classification). To build a simple classifier, using this classifier as the base, we need to specify the number of labels (n_tasks), the shape of the input feature vector for a molecule (n_features) and the a list contianing the sizes of the hidden layers. We build a simple netwrk with just one hidden layer with 1000 neurons."
   ]
  },
  {
   "cell_type": "code",
   "execution_count": 38,
   "metadata": {},
   "outputs": [],
   "source": [
    "model = dc.models.MultiTaskClassifier(n_tasks=12, n_features=1024, layer_sizes=[1000] )"
   ]
  },
  {
   "cell_type": "code",
   "execution_count": 39,
   "metadata": {},
   "outputs": [
    {
     "data": {
      "text/plain": [
       "859.3929135277158"
      ]
     },
     "execution_count": 39,
     "metadata": {},
     "output_type": "execute_result"
    }
   ],
   "source": [
    "model.fit(train_dataset)"
   ]
  },
  {
   "cell_type": "markdown",
   "metadata": {},
   "source": [
    "Finally we use the `Metric` class to create a metric that measures the ROC-AUC score. Since ROC-AUC is for binary classification, when creating the metric object, we specify an averaging strategy using `np.mean()` here."
   ]
  },
  {
   "cell_type": "code",
   "execution_count": 21,
   "metadata": {},
   "outputs": [],
   "source": [
    "metric = dc.metrics.Metric(metric=dc.metrics.roc_auc_score, task_averager=np.mean)"
   ]
  },
  {
   "cell_type": "code",
   "execution_count": 24,
   "metadata": {},
   "outputs": [
    {
     "name": "stdout",
     "output_type": "stream",
     "text": [
      "computed_metrics: [0.989502015028443, 0.9963343469010919, 0.9602251318096955, 0.9807183278132723, 0.9021875727251571, 0.9833791726186669, 0.9918846595972077, 0.9097783970609157, 0.9877642970984737, 0.9702538035841299, 0.9469223127885017, 0.9761486826648766]\n"
     ]
    },
    {
     "data": {
      "text/plain": [
       "{'mean-roc_auc_score': 0.9662582266408694}"
      ]
     },
     "execution_count": 24,
     "metadata": {},
     "output_type": "execute_result"
    }
   ],
   "source": [
    "model.evaluate(train_dataset,[metric], transformers)"
   ]
  },
  {
   "cell_type": "code",
   "execution_count": 23,
   "metadata": {},
   "outputs": [
    {
     "name": "stdout",
     "output_type": "stream",
     "text": [
      "computed_metrics: [0.7949455819959417, 0.8457258472432979, 0.9025269218466787, 0.800345405065941, 0.7152661278023486, 0.7969969969969971, 0.7174776564051638, 0.7158706725567978, 0.8630527817403709, 0.7123846407382992, 0.8704273362154973, 0.7840447154471546]\n"
     ]
    },
    {
     "data": {
      "text/plain": [
       "{'mean-roc_auc_score': 0.793255390337874}"
      ]
     },
     "execution_count": 23,
     "metadata": {},
     "output_type": "execute_result"
    }
   ],
   "source": [
    "model.evaluate(test_dataset,[metric], transformers)"
   ]
  }
 ],
 "metadata": {
  "kernelspec": {
   "display_name": "Python 3",
   "language": "python",
   "name": "python3"
  },
  "language_info": {
   "codemirror_mode": {
    "name": "ipython",
    "version": 3
   },
   "file_extension": ".py",
   "mimetype": "text/x-python",
   "name": "python",
   "nbconvert_exporter": "python",
   "pygments_lexer": "ipython3",
   "version": "3.5.5"
  }
 },
 "nbformat": 4,
 "nbformat_minor": 2
}
